{
 "cells": [
  {
   "cell_type": "markdown",
   "metadata": {},
   "source": [
    "# <font color=DeepSkyBlue >**Panel Data of Individual Wages** </font>"
   ]
  },
  {
   "cell_type": "markdown",
   "metadata": {},
   "source": [
    "### ***by Xiaoxuan Ma***"
   ]
  },
  {
   "cell_type": "markdown",
   "metadata": {},
   "source": [
    "## Agenda\n",
    "* [<font color=DeepSkyBlue>**Overview**</font>](#1)\n",
    "* [<font color=DeepSkyBlue>**Descriptive facts**</font>](#2)\n",
    "* [<font color=DeepSkyBlue>**Distribution of log wage**</font>](#3)\n",
    "* [<font color=DeepSkyBlue>**Examining and cleaning outlier**</font>](#4)\n",
    "* [<font color=DeepSkyBlue>**Panel Data Models**</font>](#5)"
   ]
  },
  {
   "cell_type": "markdown",
   "metadata": {},
   "source": [
    "## Overview<a name=\"1\"></a>"
   ]
  },
  {
   "cell_type": "markdown",
   "metadata": {},
   "source": [
    "### Panel data characteristics"
   ]
  },
  {
   "cell_type": "markdown",
   "metadata": {},
   "source": [
    "1.Panel data provide information on individual behavior, both across individuals and over time – they have both **cross-sectional** and **time-series** dimensions."
   ]
  },
  {
   "cell_type": "markdown",
   "metadata": {},
   "source": [
    "2.Panel data include **N individuals** observed at **T regular time periods**."
   ]
  },
  {
   "cell_type": "markdown",
   "metadata": {},
   "source": [
    "3.Panel data can be balanced when all individuals are observed in all time periods."
   ]
  },
  {
   "cell_type": "markdown",
   "metadata": {},
   "source": [
    "### Data for this project"
   ]
  },
  {
   "cell_type": "code",
   "execution_count": 3,
   "metadata": {},
   "outputs": [],
   "source": [
    "#install.packages(\"plm\")\n",
    "library(plm)\n",
    "library(dplyr)\n",
    "library(moments)\n",
    "\n",
    "data('Wages', package = 'plm')\n",
    "pd <- pdata.frame(Wages, index=595) #convert to a pdata.frame.\n",
    "attach(pd)"
   ]
  },
  {
   "cell_type": "code",
   "execution_count": 4,
   "metadata": {},
   "outputs": [
    {
     "data": {
      "text/html": [
       "<table>\n",
       "<thead><tr><th></th><th scope=col>exp</th><th scope=col>wks</th><th scope=col>bluecol</th><th scope=col>ind</th><th scope=col>south</th><th scope=col>smsa</th><th scope=col>married</th><th scope=col>sex</th><th scope=col>union</th><th scope=col>ed</th><th scope=col>black</th><th scope=col>lwage</th><th scope=col>id</th><th scope=col>time</th></tr></thead>\n",
       "<tbody>\n",
       "\t<tr><th scope=row>1-1</th><td> 3     </td><td>32     </td><td>no     </td><td>0      </td><td>yes    </td><td>no     </td><td>yes    </td><td>male   </td><td>no     </td><td> 9     </td><td>no     </td><td>5.56068</td><td>1      </td><td>1      </td></tr>\n",
       "\t<tr><th scope=row>1-2</th><td> 4     </td><td>43     </td><td>no     </td><td>0      </td><td>yes    </td><td>no     </td><td>yes    </td><td>male   </td><td>no     </td><td> 9     </td><td>no     </td><td>5.72031</td><td>1      </td><td>2      </td></tr>\n",
       "\t<tr><th scope=row>1-3</th><td> 5     </td><td>40     </td><td>no     </td><td>0      </td><td>yes    </td><td>no     </td><td>yes    </td><td>male   </td><td>no     </td><td> 9     </td><td>no     </td><td>5.99645</td><td>1      </td><td>3      </td></tr>\n",
       "\t<tr><th scope=row>1-4</th><td> 6     </td><td>39     </td><td>no     </td><td>0      </td><td>yes    </td><td>no     </td><td>yes    </td><td>male   </td><td>no     </td><td> 9     </td><td>no     </td><td>5.99645</td><td>1      </td><td>4      </td></tr>\n",
       "\t<tr><th scope=row>1-5</th><td> 7     </td><td>42     </td><td>no     </td><td>1      </td><td>yes    </td><td>no     </td><td>yes    </td><td>male   </td><td>no     </td><td> 9     </td><td>no     </td><td>6.06146</td><td>1      </td><td>5      </td></tr>\n",
       "\t<tr><th scope=row>1-6</th><td> 8     </td><td>35     </td><td>no     </td><td>1      </td><td>yes    </td><td>no     </td><td>yes    </td><td>male   </td><td>no     </td><td> 9     </td><td>no     </td><td>6.17379</td><td>1      </td><td>6      </td></tr>\n",
       "\t<tr><th scope=row>1-7</th><td> 9     </td><td>32     </td><td>no     </td><td>1      </td><td>yes    </td><td>no     </td><td>yes    </td><td>male   </td><td>no     </td><td> 9     </td><td>no     </td><td>6.24417</td><td>1      </td><td>7      </td></tr>\n",
       "\t<tr><th scope=row>2-1</th><td>30     </td><td>34     </td><td>yes    </td><td>0      </td><td>no     </td><td>no     </td><td>yes    </td><td>male   </td><td>no     </td><td>11     </td><td>no     </td><td>6.16331</td><td>2      </td><td>1      </td></tr>\n",
       "\t<tr><th scope=row>2-2</th><td>31     </td><td>27     </td><td>yes    </td><td>0      </td><td>no     </td><td>no     </td><td>yes    </td><td>male   </td><td>no     </td><td>11     </td><td>no     </td><td>6.21461</td><td>2      </td><td>2      </td></tr>\n",
       "\t<tr><th scope=row>2-3</th><td>32     </td><td>33     </td><td>yes    </td><td>1      </td><td>no     </td><td>no     </td><td>yes    </td><td>male   </td><td>yes    </td><td>11     </td><td>no     </td><td>6.26340</td><td>2      </td><td>3      </td></tr>\n",
       "</tbody>\n",
       "</table>\n"
      ],
      "text/latex": [
       "\\begin{tabular}{r|llllllllllllll}\n",
       "  & exp & wks & bluecol & ind & south & smsa & married & sex & union & ed & black & lwage & id & time\\\\\n",
       "\\hline\n",
       "\t1-1 &  3      & 32      & no      & 0       & yes     & no      & yes     & male    & no      &  9      & no      & 5.56068 & 1       & 1      \\\\\n",
       "\t1-2 &  4      & 43      & no      & 0       & yes     & no      & yes     & male    & no      &  9      & no      & 5.72031 & 1       & 2      \\\\\n",
       "\t1-3 &  5      & 40      & no      & 0       & yes     & no      & yes     & male    & no      &  9      & no      & 5.99645 & 1       & 3      \\\\\n",
       "\t1-4 &  6      & 39      & no      & 0       & yes     & no      & yes     & male    & no      &  9      & no      & 5.99645 & 1       & 4      \\\\\n",
       "\t1-5 &  7      & 42      & no      & 1       & yes     & no      & yes     & male    & no      &  9      & no      & 6.06146 & 1       & 5      \\\\\n",
       "\t1-6 &  8      & 35      & no      & 1       & yes     & no      & yes     & male    & no      &  9      & no      & 6.17379 & 1       & 6      \\\\\n",
       "\t1-7 &  9      & 32      & no      & 1       & yes     & no      & yes     & male    & no      &  9      & no      & 6.24417 & 1       & 7      \\\\\n",
       "\t2-1 & 30      & 34      & yes     & 0       & no      & no      & yes     & male    & no      & 11      & no      & 6.16331 & 2       & 1      \\\\\n",
       "\t2-2 & 31      & 27      & yes     & 0       & no      & no      & yes     & male    & no      & 11      & no      & 6.21461 & 2       & 2      \\\\\n",
       "\t2-3 & 32      & 33      & yes     & 1       & no      & no      & yes     & male    & yes     & 11      & no      & 6.26340 & 2       & 3      \\\\\n",
       "\\end{tabular}\n"
      ],
      "text/markdown": [
       "\n",
       "| <!--/--> | exp | wks | bluecol | ind | south | smsa | married | sex | union | ed | black | lwage | id | time | \n",
       "|---|---|---|---|---|---|---|---|---|---|\n",
       "| 1-1 |  3      | 32      | no      | 0       | yes     | no      | yes     | male    | no      |  9      | no      | 5.56068 | 1       | 1       | \n",
       "| 1-2 |  4      | 43      | no      | 0       | yes     | no      | yes     | male    | no      |  9      | no      | 5.72031 | 1       | 2       | \n",
       "| 1-3 |  5      | 40      | no      | 0       | yes     | no      | yes     | male    | no      |  9      | no      | 5.99645 | 1       | 3       | \n",
       "| 1-4 |  6      | 39      | no      | 0       | yes     | no      | yes     | male    | no      |  9      | no      | 5.99645 | 1       | 4       | \n",
       "| 1-5 |  7      | 42      | no      | 1       | yes     | no      | yes     | male    | no      |  9      | no      | 6.06146 | 1       | 5       | \n",
       "| 1-6 |  8      | 35      | no      | 1       | yes     | no      | yes     | male    | no      |  9      | no      | 6.17379 | 1       | 6       | \n",
       "| 1-7 |  9      | 32      | no      | 1       | yes     | no      | yes     | male    | no      |  9      | no      | 6.24417 | 1       | 7       | \n",
       "| 2-1 | 30      | 34      | yes     | 0       | no      | no      | yes     | male    | no      | 11      | no      | 6.16331 | 2       | 1       | \n",
       "| 2-2 | 31      | 27      | yes     | 0       | no      | no      | yes     | male    | no      | 11      | no      | 6.21461 | 2       | 2       | \n",
       "| 2-3 | 32      | 33      | yes     | 1       | no      | no      | yes     | male    | yes     | 11      | no      | 6.26340 | 2       | 3       | \n",
       "\n",
       "\n"
      ],
      "text/plain": [
       "    exp wks bluecol ind south smsa married sex  union ed black lwage   id time\n",
       "1-1  3  32  no      0   yes   no   yes     male no     9 no    5.56068 1  1   \n",
       "1-2  4  43  no      0   yes   no   yes     male no     9 no    5.72031 1  2   \n",
       "1-3  5  40  no      0   yes   no   yes     male no     9 no    5.99645 1  3   \n",
       "1-4  6  39  no      0   yes   no   yes     male no     9 no    5.99645 1  4   \n",
       "1-5  7  42  no      1   yes   no   yes     male no     9 no    6.06146 1  5   \n",
       "1-6  8  35  no      1   yes   no   yes     male no     9 no    6.17379 1  6   \n",
       "1-7  9  32  no      1   yes   no   yes     male no     9 no    6.24417 1  7   \n",
       "2-1 30  34  yes     0   no    no   yes     male no    11 no    6.16331 2  1   \n",
       "2-2 31  27  yes     0   no    no   yes     male no    11 no    6.21461 2  2   \n",
       "2-3 32  33  yes     1   no    no   yes     male yes   11 no    6.26340 2  3   "
      ]
     },
     "metadata": {},
     "output_type": "display_data"
    }
   ],
   "source": [
    "head(pd, 10)"
   ]
  },
  {
   "cell_type": "markdown",
   "metadata": {},
   "source": [
    "A panel of 595 individuals from 1976 to 1982, taken from the Panel Study of Income Dynamics (PSID).\n",
    "\n",
    "The data are organized as a stacked time series/balanced panel.\n",
    "\n",
    "total number of observations : 4165\n",
    "\n",
    "observation : individuals\n",
    "\n",
    "country : United States"
   ]
  },
  {
   "cell_type": "markdown",
   "metadata": {},
   "source": [
    "Checking if there is any nan in the dataframe."
   ]
  },
  {
   "cell_type": "code",
   "execution_count": 5,
   "metadata": {},
   "outputs": [
    {
     "name": "stdout",
     "output_type": "stream",
     "text": [
      "[1] \"number of missing values:  0\"\n"
     ]
    }
   ],
   "source": [
    "print(paste(\"number of missing values: \",sum(is.na(pd))))"
   ]
  },
  {
   "cell_type": "markdown",
   "metadata": {},
   "source": [
    "### Topics overview"
   ]
  },
  {
   "cell_type": "markdown",
   "metadata": {},
   "source": [
    "I use Jupyter Notebook to show the codes and results, and use PowerPoint to summarize and present the results."
   ]
  },
  {
   "cell_type": "markdown",
   "metadata": {},
   "source": [
    "Due to the limited time provided, I will focus on the follow questions:  \n",
    "1) Highlight three descriptive facts from the data with supporting analysis and graphs.   \n",
    "2) Pick a continuous variable of interest, what is the distribution of this variable?   \n",
    "3) Continuing from above, how would you examine and clean outlier?  \n",
    "5) Build a model from data, share with us the insights and results.  \n"
   ]
  },
  {
   "cell_type": "markdown",
   "metadata": {},
   "source": [
    "Also, I'll briefly talk about my thoughts about some other questions."
   ]
  },
  {
   "cell_type": "markdown",
   "metadata": {},
   "source": [
    "## Descriptive facts from the data<a name=\"2\"></a>"
   ]
  },
  {
   "cell_type": "markdown",
   "metadata": {},
   "source": [
    "### 1. Means and Variations of variables "
   ]
  },
  {
   "cell_type": "markdown",
   "metadata": {},
   "source": [
    " **There are four continuous variables:**   \n",
    " years of full-time work experience,   \n",
    " weeks worked,  \n",
    " years of education,  \n",
    " logarithm of wage.\n",
    "   \n",
    " Let's use basic statistics to summary them.   "
   ]
  },
  {
   "cell_type": "markdown",
   "metadata": {},
   "source": [
    "**Means**"
   ]
  },
  {
   "cell_type": "code",
   "execution_count": 6,
   "metadata": {},
   "outputs": [
    {
     "data": {
      "text/html": [
       "<table>\n",
       "<thead><tr><th scope=col>mean(exp)</th><th scope=col>mean(wks)</th><th scope=col>mean(ed)</th><th scope=col>mean(lwage)</th></tr></thead>\n",
       "<tbody>\n",
       "\t<tr><td>19.85</td><td>46.81</td><td>12.85</td><td>6.68 </td></tr>\n",
       "</tbody>\n",
       "</table>\n"
      ],
      "text/latex": [
       "\\begin{tabular}{r|llll}\n",
       " mean(exp) & mean(wks) & mean(ed) & mean(lwage)\\\\\n",
       "\\hline\n",
       "\t 19.85 & 46.81 & 12.85 & 6.68 \\\\\n",
       "\\end{tabular}\n"
      ],
      "text/markdown": [
       "\n",
       "mean(exp) | mean(wks) | mean(ed) | mean(lwage) | \n",
       "|---|\n",
       "| 19.85 | 46.81 | 12.85 | 6.68  | \n",
       "\n",
       "\n"
      ],
      "text/plain": [
       "  mean(exp) mean(wks) mean(ed) mean(lwage)\n",
       "1 19.85     46.81     12.85    6.68       "
      ]
     },
     "metadata": {},
     "output_type": "display_data"
    }
   ],
   "source": [
    "pd_mean <- pd %>% summarise(mean(exp), mean(wks), mean(ed), mean(lwage))\n",
    "pd_mean <- round(pd_mean,2)\n",
    "pd_mean"
   ]
  },
  {
   "cell_type": "markdown",
   "metadata": {},
   "source": [
    "**Overall variation: variation over time and individuals.**"
   ]
  },
  {
   "cell_type": "code",
   "execution_count": 7,
   "metadata": {},
   "outputs": [
    {
     "data": {
      "text/html": [
       "<table>\n",
       "<thead><tr><th scope=col>sd(exp)</th><th scope=col>sd(wks)</th><th scope=col>sd(ed)</th><th scope=col>sd(lwage)</th></tr></thead>\n",
       "<tbody>\n",
       "\t<tr><td>10.97</td><td>5.13 </td><td>2.79 </td><td>0.46 </td></tr>\n",
       "</tbody>\n",
       "</table>\n"
      ],
      "text/latex": [
       "\\begin{tabular}{r|llll}\n",
       " sd(exp) & sd(wks) & sd(ed) & sd(lwage)\\\\\n",
       "\\hline\n",
       "\t 10.97 & 5.13  & 2.79  & 0.46 \\\\\n",
       "\\end{tabular}\n"
      ],
      "text/markdown": [
       "\n",
       "sd(exp) | sd(wks) | sd(ed) | sd(lwage) | \n",
       "|---|\n",
       "| 10.97 | 5.13  | 2.79  | 0.46  | \n",
       "\n",
       "\n"
      ],
      "text/plain": [
       "  sd(exp) sd(wks) sd(ed) sd(lwage)\n",
       "1 10.97   5.13    2.79   0.46     "
      ]
     },
     "metadata": {},
     "output_type": "display_data"
    }
   ],
   "source": [
    "pd_sd_overall <- pd %>% summarise(sd(exp), sd(wks), sd(ed), sd(lwage))\n",
    "pd_sd_overall <- round(pd_sd_overall,2)\n",
    "pd_sd_overall"
   ]
  },
  {
   "cell_type": "markdown",
   "metadata": {},
   "source": [
    "**Between variation: variation between individuals.**\n"
   ]
  },
  {
   "cell_type": "code",
   "execution_count": 8,
   "metadata": {},
   "outputs": [
    {
     "data": {
      "text/html": [
       "<table>\n",
       "<thead><tr><th scope=col>exp</th><th scope=col>wks</th><th scope=col>ed</th><th scope=col>lwage</th></tr></thead>\n",
       "<tbody>\n",
       "\t<tr><td>10.79</td><td>3.28 </td><td>2.79 </td><td>0.39 </td></tr>\n",
       "</tbody>\n",
       "</table>\n"
      ],
      "text/latex": [
       "\\begin{tabular}{r|llll}\n",
       " exp & wks & ed & lwage\\\\\n",
       "\\hline\n",
       "\t 10.79 & 3.28  & 2.79  & 0.39 \\\\\n",
       "\\end{tabular}\n"
      ],
      "text/markdown": [
       "\n",
       "exp | wks | ed | lwage | \n",
       "|---|\n",
       "| 10.79 | 3.28  | 2.79  | 0.39  | \n",
       "\n",
       "\n"
      ],
      "text/plain": [
       "  exp   wks  ed   lwage\n",
       "1 10.79 3.28 2.79 0.39 "
      ]
     },
     "metadata": {},
     "output_type": "display_data"
    }
   ],
   "source": [
    "pd_sd_between <- pd %>% group_by(id) %>% \n",
    "                 summarise_at(vars(exp, wks, ed, lwage),mean) %>% \n",
    "                 summarise_at(vars( exp, wks, ed, lwage),sd)\n",
    "pd_sd_between <- round(pd_sd_between,2)\n",
    "pd_sd_between"
   ]
  },
  {
   "cell_type": "markdown",
   "metadata": {},
   "source": [
    "**Within variation: variation within individuals over time.**"
   ]
  },
  {
   "cell_type": "code",
   "execution_count": 9,
   "metadata": {},
   "outputs": [
    {
     "data": {
      "text/html": [
       "<table>\n",
       "<thead><tr><th scope=col>sd(exp)</th><th scope=col>sd(wks)</th><th scope=col>sd(ed)</th><th scope=col>sd(lwage)</th></tr></thead>\n",
       "<tbody>\n",
       "\t<tr><td>1.98</td><td>3.94</td><td>0   </td><td>0.24</td></tr>\n",
       "</tbody>\n",
       "</table>\n"
      ],
      "text/latex": [
       "\\begin{tabular}{llll}\n",
       " sd(exp) & sd(wks) & sd(ed) & sd(lwage)\\\\\n",
       "\\hline\n",
       "\t 1.98 & 3.94 & 0    & 0.24\\\\\n",
       "\\end{tabular}\n"
      ],
      "text/markdown": [
       "\n",
       "sd(exp) | sd(wks) | sd(ed) | sd(lwage) | \n",
       "|---|\n",
       "| 1.98 | 3.94 | 0    | 0.24 | \n",
       "\n",
       "\n"
      ],
      "text/plain": [
       "     sd(exp) sd(wks) sd(ed) sd(lwage)\n",
       "[1,] 1.98    3.94    0      0.24     "
      ]
     },
     "metadata": {},
     "output_type": "display_data"
    }
   ],
   "source": [
    "pd_sd_within <- (pd_sd_overall**2 - pd_sd_between**2)**0.5\n",
    "pd_sd_within <- round(pd_sd_within,2)\n",
    "pd_sd_within"
   ]
  },
  {
   "cell_type": "markdown",
   "metadata": {},
   "source": [
    "### 2. Average log wages of males and females over time."
   ]
  },
  {
   "cell_type": "code",
   "execution_count": 11,
   "metadata": {},
   "outputs": [
    {
     "data": {
      "text/html": [
       "<table>\n",
       "<thead><tr><th scope=col>time</th><th scope=col>lwage</th></tr></thead>\n",
       "<tbody>\n",
       "\t<tr><td>1       </td><td>6.423298</td></tr>\n",
       "\t<tr><td>2       </td><td>6.515570</td></tr>\n",
       "\t<tr><td>3       </td><td>6.655162</td></tr>\n",
       "\t<tr><td>4       </td><td>6.752830</td></tr>\n",
       "\t<tr><td>5       </td><td>6.842012</td></tr>\n",
       "\t<tr><td>6       </td><td>6.915456</td></tr>\n",
       "\t<tr><td>7       </td><td>7.004088</td></tr>\n",
       "</tbody>\n",
       "</table>\n"
      ],
      "text/latex": [
       "\\begin{tabular}{r|ll}\n",
       " time & lwage\\\\\n",
       "\\hline\n",
       "\t 1        & 6.423298\\\\\n",
       "\t 2        & 6.515570\\\\\n",
       "\t 3        & 6.655162\\\\\n",
       "\t 4        & 6.752830\\\\\n",
       "\t 5        & 6.842012\\\\\n",
       "\t 6        & 6.915456\\\\\n",
       "\t 7        & 7.004088\\\\\n",
       "\\end{tabular}\n"
      ],
      "text/markdown": [
       "\n",
       "time | lwage | \n",
       "|---|---|---|---|---|---|---|\n",
       "| 1        | 6.423298 | \n",
       "| 2        | 6.515570 | \n",
       "| 3        | 6.655162 | \n",
       "| 4        | 6.752830 | \n",
       "| 5        | 6.842012 | \n",
       "| 6        | 6.915456 | \n",
       "| 7        | 7.004088 | \n",
       "\n",
       "\n"
      ],
      "text/plain": [
       "  time lwage   \n",
       "1 1    6.423298\n",
       "2 2    6.515570\n",
       "3 3    6.655162\n",
       "4 4    6.752830\n",
       "5 5    6.842012\n",
       "6 6    6.915456\n",
       "7 7    7.004088"
      ]
     },
     "metadata": {},
     "output_type": "display_data"
    }
   ],
   "source": [
    "male_wage_mean <- pd %>% group_by(time) %>% filter(sex == 'male') %>% summarise_at(vars(lwage),mean) \n",
    "male_wage_mean"
   ]
  },
  {
   "cell_type": "code",
   "execution_count": 12,
   "metadata": {},
   "outputs": [
    {
     "data": {
      "text/html": [
       "<table>\n",
       "<thead><tr><th scope=col>time</th><th scope=col>lwage</th></tr></thead>\n",
       "<tbody>\n",
       "\t<tr><td>1       </td><td>5.995927</td></tr>\n",
       "\t<tr><td>2       </td><td>6.068366</td></tr>\n",
       "\t<tr><td>3       </td><td>6.136134</td></tr>\n",
       "\t<tr><td>4       </td><td>6.248850</td></tr>\n",
       "\t<tr><td>5       </td><td>6.348618</td></tr>\n",
       "\t<tr><td>6       </td><td>6.458892</td></tr>\n",
       "\t<tr><td>7       </td><td>6.530366</td></tr>\n",
       "</tbody>\n",
       "</table>\n"
      ],
      "text/latex": [
       "\\begin{tabular}{r|ll}\n",
       " time & lwage\\\\\n",
       "\\hline\n",
       "\t 1        & 5.995927\\\\\n",
       "\t 2        & 6.068366\\\\\n",
       "\t 3        & 6.136134\\\\\n",
       "\t 4        & 6.248850\\\\\n",
       "\t 5        & 6.348618\\\\\n",
       "\t 6        & 6.458892\\\\\n",
       "\t 7        & 6.530366\\\\\n",
       "\\end{tabular}\n"
      ],
      "text/markdown": [
       "\n",
       "time | lwage | \n",
       "|---|---|---|---|---|---|---|\n",
       "| 1        | 5.995927 | \n",
       "| 2        | 6.068366 | \n",
       "| 3        | 6.136134 | \n",
       "| 4        | 6.248850 | \n",
       "| 5        | 6.348618 | \n",
       "| 6        | 6.458892 | \n",
       "| 7        | 6.530366 | \n",
       "\n",
       "\n"
      ],
      "text/plain": [
       "  time lwage   \n",
       "1 1    5.995927\n",
       "2 2    6.068366\n",
       "3 3    6.136134\n",
       "4 4    6.248850\n",
       "5 5    6.348618\n",
       "6 6    6.458892\n",
       "7 7    6.530366"
      ]
     },
     "metadata": {},
     "output_type": "display_data"
    }
   ],
   "source": [
    "female_wage_mean <- pd %>% group_by(time) %>% filter(sex == 'female') %>% summarise_at(vars(lwage),mean) \n",
    "female_wage_mean"
   ]
  },
  {
   "cell_type": "code",
   "execution_count": 40,
   "metadata": {},
   "outputs": [
    {
     "data": {
      "image/png": "[encoded data removed]",
      "text/plain": [
       "Plot with title \"Mean Log Wage: Male vs Female\""
      ]
     },
     "metadata": {},
     "output_type": "display_data"
    }
   ],
   "source": [
    "options(repr.plot.width=6, repr.plot.height=6)\n",
    "plot(male_wage_mean$lwage,\n",
    "     type = \"o\",col = 'blue',lwd=2, \n",
    "     xlab = \"time\", ylab = \"log wage\",ylim=c(5.9,7.1),\n",
    "     main = 'Mean Log Wage: Male vs Female')\n",
    "lines(female_wage_mean, type = \"o\", col = 'red',lwd=2)\n",
    "grid(nx=NA,ny=NULL,lty=1,lwd=1,col=\" gray\")\n",
    "legend(\"bottomright\",pch=c(15,15),legend=c('Male','Female'),col=c('blue','red'))"
   ]
  },
  {
   "cell_type": "markdown",
   "metadata": {},
   "source": [
    "### 3. Samples' distribution characteristics"
   ]
  },
  {
   "cell_type": "markdown",
   "metadata": {},
   "source": [
    "Now, I use categorical variables to discover samples' distribution characteristics. Taking blue collar, sex, black at time 7 as an example."
   ]
  },
  {
   "cell_type": "code",
   "execution_count": 15,
   "metadata": {},
   "outputs": [],
   "source": [
    "t7 <- pd[which(time == 7),]"
   ]
  },
  {
   "cell_type": "code",
   "execution_count": 17,
   "metadata": {},
   "outputs": [
    {
     "data": {
      "text/plain": [
       "      exp             wks        bluecol        ind        south      smsa    \n",
       " Min.   : 7.00   Min.   : 5.00   no :290   Min.   :0.000   no :421   no :213  \n",
       " 1st Qu.:13.00   1st Qu.:46.00   yes:305   1st Qu.:0.000   yes:174   yes:382  \n",
       " Median :21.00   Median :48.00             Median :0.000                      \n",
       " Mean   :22.85   Mean   :46.45             Mean   :0.405                      \n",
       " 3rd Qu.:32.00   3rd Qu.:49.00             3rd Qu.:1.000                      \n",
       " Max.   :51.00   Max.   :52.00             Max.   :1.000                      \n",
       "                                                                              \n",
       " married       sex      union           ed        black         lwage      \n",
       " no :116   male  :528   no :377   Min.   : 4.00   no :552   Min.   :5.677  \n",
       " yes:479   female: 67   yes:218   1st Qu.:12.00   yes: 43   1st Qu.:6.685  \n",
       "                                  Median :12.00             Median :6.985  \n",
       "                                  Mean   :12.85             Mean   :6.951  \n",
       "                                  3rd Qu.:16.00             3rd Qu.:7.208  \n",
       "                                  Max.   :17.00             Max.   :8.537  \n",
       "                                                                           \n",
       "       id      time   \n",
       " 1      :  1   1:  0  \n",
       " 2      :  1   2:  0  \n",
       " 3      :  1   3:  0  \n",
       " 4      :  1   4:  0  \n",
       " 5      :  1   5:  0  \n",
       " 6      :  1   6:  0  \n",
       " (Other):589   7:595  "
      ]
     },
     "metadata": {},
     "output_type": "display_data"
    }
   ],
   "source": [
    "summary(t7)"
   ]
  },
  {
   "cell_type": "code",
   "execution_count": 20,
   "metadata": {},
   "outputs": [
    {
     "data": {
      "text/plain": [
       "\n",
       "  male female \n",
       "   276     29 "
      ]
     },
     "metadata": {},
     "output_type": "display_data"
    }
   ],
   "source": [
    "t7_blue <- t7[which(t7$bluecol == 'yes'),]\n",
    "table(t7_blue$sex)"
   ]
  },
  {
   "cell_type": "code",
   "execution_count": 21,
   "metadata": {},
   "outputs": [
    {
     "data": {
      "text/plain": [
       "\n",
       " no yes \n",
       "261  15 "
      ]
     },
     "metadata": {},
     "output_type": "display_data"
    }
   ],
   "source": [
    "t7_blue_male <- t7_blue[which(t7_blue$sex == 'male'),]\n",
    "table(t7_blue_male$black)"
   ]
  },
  {
   "cell_type": "code",
   "execution_count": 23,
   "metadata": {},
   "outputs": [
    {
     "data": {
      "text/plain": [
       "\n",
       " no yes \n",
       " 16  13 "
      ]
     },
     "metadata": {},
     "output_type": "display_data"
    }
   ],
   "source": [
    "t7_blue_female <- t7_blue[which(t7_blue$sex == 'female'),]\n",
    "table(t7_blue_female$black)"
   ]
  },
  {
   "cell_type": "code",
   "execution_count": 24,
   "metadata": {},
   "outputs": [
    {
     "data": {
      "text/plain": [
       "\n",
       "  male female \n",
       "   252     38 "
      ]
     },
     "metadata": {},
     "output_type": "display_data"
    }
   ],
   "source": [
    "t7_nonblue <- t7[which(t7$bluecol == 'no'),]\n",
    "table(t7_nonblue$sex)"
   ]
  },
  {
   "cell_type": "code",
   "execution_count": 25,
   "metadata": {},
   "outputs": [
    {
     "data": {
      "text/plain": [
       "\n",
       " no yes \n",
       "239  13 "
      ]
     },
     "metadata": {},
     "output_type": "display_data"
    }
   ],
   "source": [
    "t7_nonblue_male <- t7_nonblue[which(t7_nonblue$sex == 'male'),]\n",
    "table(t7_nonblue_male$black)"
   ]
  },
  {
   "cell_type": "code",
   "execution_count": 26,
   "metadata": {},
   "outputs": [
    {
     "data": {
      "text/plain": [
       "\n",
       " no yes \n",
       " 36   2 "
      ]
     },
     "metadata": {},
     "output_type": "display_data"
    }
   ],
   "source": [
    "t7_nonblue_female <- t7_nonblue[which(t7_nonblue$sex == 'female'),]\n",
    "table(t7_nonblue_female$black)"
   ]
  },
  {
   "cell_type": "markdown",
   "metadata": {},
   "source": [
    "## Distribution of log wage<a name=\"3\"></a>"
   ]
  },
  {
   "cell_type": "markdown",
   "metadata": {},
   "source": [
    "Taking the log wage at time 7 as an example, let's try to find it's distribution."
   ]
  },
  {
   "cell_type": "code",
   "execution_count": 27,
   "metadata": {},
   "outputs": [],
   "source": [
    "lwage7 <- t7$lwage"
   ]
  },
  {
   "cell_type": "code",
   "execution_count": 41,
   "metadata": {},
   "outputs": [
    {
     "data": {
      "image/png": "[encoded data removed]",
      "text/plain": [
       "Plot with title \"Distribution of Log Wage of Time 7\""
      ]
     },
     "metadata": {},
     "output_type": "display_data"
    }
   ],
   "source": [
    "options(repr.plot.width=6, repr.plot.height=6)\n",
    "par(yaxs='i',las=1)\n",
    "hist(lwage7,\n",
    "     freq=FALSE,\n",
    "     col='grey',border='black',\n",
    "     xlab='log wage of time 7',\n",
    "     main='Distribution of Log Wage of Time 7')\n",
    "box(bty='l')\n",
    "lines(density(lwage7,na.rm=T),col='red',lwd=2)\n",
    "abline(v=mean(lwage7), col='green' ,lwd=2)\n",
    "abline(v=median(lwage7), col='yellow' ,lwd=2)\n",
    "grid(nx=NA,ny=NULL,lty=1,lwd=1,col=\" gray\")\n",
    "legend(\"topright\",pch=c(15,15,15),legend=c('Density','Mean','Median'),col=c('red','green','yellow'))"
   ]
  },
  {
   "cell_type": "code",
   "execution_count": 29,
   "metadata": {},
   "outputs": [
    {
     "data": {
      "text/html": [
       "-0.114000506077867"
      ],
      "text/latex": [
       "-0.114000506077867"
      ],
      "text/markdown": [
       "-0.114000506077867"
      ],
      "text/plain": [
       "[1] -0.1140005"
      ]
     },
     "metadata": {},
     "output_type": "display_data"
    }
   ],
   "source": [
    "skewness(lwage7)"
   ]
  },
  {
   "cell_type": "code",
   "execution_count": 30,
   "metadata": {},
   "outputs": [
    {
     "data": {
      "text/html": [
       "3.39365097004502"
      ],
      "text/latex": [
       "3.39365097004502"
      ],
      "text/markdown": [
       "3.39365097004502"
      ],
      "text/plain": [
       "[1] 3.393651"
      ]
     },
     "metadata": {},
     "output_type": "display_data"
    }
   ],
   "source": [
    "kurtosis(lwage7)"
   ]
  },
  {
   "cell_type": "code",
   "execution_count": 42,
   "metadata": {},
   "outputs": [
    {
     "data": {
      "image/png": "[encoded data removed]",
      "text/plain": [
       "Plot with title \"Normal Q-Q Plot for Log Wage of Time 7\""
      ]
     },
     "metadata": {},
     "output_type": "display_data"
    }
   ],
   "source": [
    "options(repr.plot.width=5, repr.plot.height=5)\n",
    "qqnorm(lwage7, main = 'Normal Q-Q Plot for Log Wage of Time 7')\n",
    "qqline(lwage7)"
   ]
  },
  {
   "cell_type": "code",
   "execution_count": 35,
   "metadata": {},
   "outputs": [
    {
     "data": {
      "text/plain": [
       "\n",
       "\tShapiro-Wilk normality test\n",
       "\n",
       "data:  lwage7\n",
       "W = 0.99239, p-value = 0.003932\n"
      ]
     },
     "metadata": {},
     "output_type": "display_data"
    }
   ],
   "source": [
    "nortest <- shapiro.test(lwage7)\n",
    "nortest"
   ]
  },
  {
   "cell_type": "markdown",
   "metadata": {},
   "source": [
    "## Examining and cleaning outlier<a name=\"4\"></a>"
   ]
  },
  {
   "cell_type": "code",
   "execution_count": 38,
   "metadata": {},
   "outputs": [
    {
     "data": {
      "image/png": "[encoded data removed]",
      "text/plain": [
       "Plot with title \"Boxplot of Log Wage of Time 7\""
      ]
     },
     "metadata": {},
     "output_type": "display_data"
    }
   ],
   "source": [
    "options(repr.plot.width=4, repr.plot.height=6)\n",
    "boxplot(lwage7,col=\"grey\",border=\"black\",\n",
    "        ylab='log wage of time 7',\n",
    "        main='Boxplot of Log Wage of Time 7')\n",
    "grid(nx=NA,ny=NULL,lty=1,lwd=1,col=\" gray\")"
   ]
  },
  {
   "cell_type": "code",
   "execution_count": 43,
   "metadata": {},
   "outputs": [
    {
     "name": "stdout",
     "output_type": "stream",
     "text": [
      "[1] \"number of outliers:  15\"\n"
     ]
    }
   ],
   "source": [
    "outliers <- boxplot.stats(lwage7)$out\n",
    "print(paste(\"number of outliers: \",length(outliers)))"
   ]
  },
  {
   "cell_type": "code",
   "execution_count": 44,
   "metadata": {},
   "outputs": [
    {
     "name": "stdout",
     "output_type": "stream",
     "text": [
      "[1] \"number of samples after cleaning outliers:  580\"\n"
     ]
    }
   ],
   "source": [
    "m_lwage7 <- lwage7[! lwage7 %in% outliers]\n",
    "print(paste(\"number of samples after cleaning outliers: \",length(m_lwage7)))"
   ]
  },
  {
   "cell_type": "markdown",
   "metadata": {},
   "source": [
    "## Panel Data Models<a name=\"5\"></a>"
   ]
  },
  {
   "cell_type": "markdown",
   "metadata": {},
   "source": [
    "The type of categorical variables is factor."
   ]
  },
  {
   "cell_type": "code",
   "execution_count": 46,
   "metadata": {},
   "outputs": [],
   "source": [
    "mpd <- pd\n",
    "mpd$sex <- factor(mpd$sex,labels=c(0,1))\n",
    "mpd$married <- factor(mpd$married,labels=c(0,1))\n",
    "mpd$black <- factor(mpd$black,labels=c(0,1))\n",
    "detach(pd)\n",
    "attach(mpd)"
   ]
  },
  {
   "cell_type": "code",
   "execution_count": 47,
   "metadata": {},
   "outputs": [
    {
     "data": {
      "text/plain": [
       "Pooling Model\n",
       "\n",
       "Call:\n",
       "plm(formula = lwage ~ exp + wks + ed + sex + married + black, \n",
       "    data = mpd, model = \"pooling\")\n",
       "\n",
       "Balanced Panel: n=595, T=7, N=4165\n",
       "\n",
       "Residuals :\n",
       "      Min.    1st Qu.     Median    3rd Qu.       Max. \n",
       "-2.2034348 -0.2376862  0.0033105  0.2524530  1.9345178 \n",
       "\n",
       "Coefficients :\n",
       "               Estimate  Std. Error  t-value  Pr(>|t|)    \n",
       "(Intercept)  5.30448293  0.06570553  80.7312 < 2.2e-16 ***\n",
       "exp          0.01182958  0.00054972  21.5191 < 2.2e-16 ***\n",
       "wks          0.00405787  0.00113382   3.5790 0.0003489 ***\n",
       "ed           0.07374622  0.00214177  34.4323 < 2.2e-16 ***\n",
       "sex1        -0.34976966  0.02662526 -13.1368 < 2.2e-16 ***\n",
       "married1     0.06150482  0.02186638   2.8128 0.0049349 ** \n",
       "black1      -0.15159601  0.02316837  -6.5432 6.751e-11 ***\n",
       "---\n",
       "Signif. codes:  0 '***' 0.001 '**' 0.01 '*' 0.05 '.' 0.1 ' ' 1\n",
       "\n",
       "Total Sum of Squares:    886.9\n",
       "Residual Sum of Squares: 580.16\n",
       "R-Squared:      0.34586\n",
       "Adj. R-Squared: 0.34492\n",
       "F-statistic: 366.411 on 6 and 4158 DF, p-value: < 2.22e-16"
      ]
     },
     "metadata": {},
     "output_type": "display_data"
    }
   ],
   "source": [
    "pooling <- plm(lwage ~ exp + wks + ed + sex + married + black, data=mpd, model= \"pooling\")\n",
    "summary(pooling)"
   ]
  },
  {
   "cell_type": "code",
   "execution_count": 52,
   "metadata": {},
   "outputs": [
    {
     "data": {
      "text/plain": [
       "Oneway (individual) effect Between Model\n",
       "\n",
       "Call:\n",
       "plm(formula = lwage ~ exp + wks + ed + sex + married + black, \n",
       "    data = mpd, model = \"between\")\n",
       "\n",
       "Balanced Panel: n=595, T=7, N=4165\n",
       "Observations used in estimation: 595\n",
       "\n",
       "Residuals :\n",
       "     Min.   1st Qu.    Median   3rd Qu.      Max. \n",
       "-0.949431 -0.194872  0.031572  0.218650  0.818082 \n",
       "\n",
       "Coefficients :\n",
       "              Estimate Std. Error t-value  Pr(>|t|)    \n",
       "(Intercept)  5.1686396  0.1981128 26.0894 < 2.2e-16 ***\n",
       "exp          0.0085564  0.0011917  7.1797 2.119e-12 ***\n",
       "wks          0.0078176  0.0037787  2.0688  0.038997 *  \n",
       "ed           0.0712038  0.0045413 15.6793 < 2.2e-16 ***\n",
       "sex1        -0.3015372  0.0603729 -4.9946 7.784e-07 ***\n",
       "married1     0.1242968  0.0525362  2.3659  0.018308 *  \n",
       "black1      -0.1389058  0.0491550 -2.8259  0.004875 ** \n",
       "---\n",
       "Signif. codes:  0 '***' 0.001 '**' 0.01 '*' 0.05 '.' 0.1 ' ' 1\n",
       "\n",
       "Total Sum of Squares:    92.322\n",
       "Residual Sum of Squares: 52.576\n",
       "R-Squared:      0.43051\n",
       "Adj. R-Squared: 0.4247\n",
       "F-statistic: 74.0853 on 6 and 588 DF, p-value: < 2.22e-16"
      ]
     },
     "metadata": {},
     "output_type": "display_data"
    }
   ],
   "source": [
    "between <- plm(lwage ~ exp + wks + ed + sex + married + black, data=mpd, model= \"between\")\n",
    "summary(between)"
   ]
  },
  {
   "cell_type": "code",
   "execution_count": 50,
   "metadata": {},
   "outputs": [
    {
     "data": {
      "text/plain": [
       "Oneway (individual) effect Random Effect Model \n",
       "   (Swamy-Arora's transformation)\n",
       "\n",
       "Call:\n",
       "plm(formula = lwage ~ exp + wks + ed + sex + married + black, \n",
       "    data = mpd, model = \"random\")\n",
       "\n",
       "Balanced Panel: n=595, T=7, N=4165\n",
       "\n",
       "Effects:\n",
       "                  var std.dev share\n",
       "idiosyncratic 0.02356 0.15349 0.215\n",
       "individual    0.08605 0.29334 0.785\n",
       "theta:  0.806  \n",
       "\n",
       "Residuals :\n",
       "      Min.    1st Qu.     Median    3rd Qu.       Max. \n",
       "-2.0459196 -0.1149687  0.0021092  0.1184320  2.0643465 \n",
       "\n",
       "Coefficients :\n",
       "               Estimate  Std. Error t-value  Pr(>|t|)    \n",
       "(Intercept)  4.29832874  0.09299567 46.2207 < 2.2e-16 ***\n",
       "exp          0.05235392  0.00107787 48.5716 < 2.2e-16 ***\n",
       "wks          0.00151232  0.00076914  1.9662 0.0493366 *  \n",
       "ed           0.10749796  0.00579063 18.5641 < 2.2e-16 ***\n",
       "sex1        -0.32979262  0.05512963 -5.9821 2.388e-09 ***\n",
       "married1    -0.07301560  0.02313775 -3.1557 0.0016126 ** \n",
       "black1      -0.22763295  0.06302307 -3.6119 0.0003076 ***\n",
       "---\n",
       "Signif. codes:  0 '***' 0.001 '**' 0.01 '*' 0.05 '.' 0.1 ' ' 1\n",
       "\n",
       "Total Sum of Squares:    264.98\n",
       "Residual Sum of Squares: 163.2\n",
       "R-Squared:      0.38408\n",
       "Adj. R-Squared: 0.38319\n",
       "F-statistic: 432.144 on 6 and 4158 DF, p-value: < 2.22e-16"
      ]
     },
     "metadata": {},
     "output_type": "display_data"
    }
   ],
   "source": [
    "random <- plm(lwage ~ exp + wks + ed + sex + married + black, data=mpd, model= \"random\")\n",
    "summary(random)"
   ]
  },
  {
   "cell_type": "code",
   "execution_count": 54,
   "metadata": {},
   "outputs": [
    {
     "data": {
      "text/plain": [
       "\n",
       "\tHausman Test\n",
       "\n",
       "data:  lwage ~ exp + wks + ed + sex + married + black\n",
       "chisq = 8945.9, df = 6, p-value < 2.2e-16\n",
       "alternative hypothesis: one model is inconsistent\n"
      ]
     },
     "metadata": {},
     "output_type": "display_data"
    }
   ],
   "source": [
    "phtest(random, between)"
   ]
  },
  {
   "cell_type": "markdown",
   "metadata": {},
   "source": [
    "***Thank you for reading!***"
   ]
  }
 ],
 "metadata": {
  "kernelspec": {
   "display_name": "R",
   "language": "R",
   "name": "ir"
  },
  "language_info": {
   "codemirror_mode": "r",
   "file_extension": ".r",
   "mimetype": "text/x-r-source",
   "name": "R",
   "pygments_lexer": "r",
   "version": "3.4.3"
  }
 },
 "nbformat": 4,
 "nbformat_minor": 2
}
